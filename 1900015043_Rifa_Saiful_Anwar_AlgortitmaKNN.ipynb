{
  "nbformat": 4,
  "nbformat_minor": 0,
  "metadata": {
    "colab": {
      "name": "1900015043_Rifa Saiful Anwar_AlgortitmaKNN",
      "provenance": [],
      "collapsed_sections": [],
      "authorship_tag": "ABX9TyOwVC094zE9ZP0p/CtidqyR",
      "include_colab_link": true
    },
    "kernelspec": {
      "name": "python3",
      "display_name": "Python 3"
    },
    "language_info": {
      "name": "python"
    }
  },
  "cells": [
    {
      "cell_type": "markdown",
      "metadata": {
        "id": "view-in-github",
        "colab_type": "text"
      },
      "source": [
        "<a href=\"https://colab.research.google.com/github/RifaAnwar/Basic-Python-Programming-for-Data-Science/blob/main/1900015043_Rifa_Saiful_Anwar_AlgortitmaKNN.ipynb\" target=\"_parent\"><img src=\"https://colab.research.google.com/assets/colab-badge.svg\" alt=\"Open In Colab\"/></a>"
      ]
    },
    {
      "cell_type": "markdown",
      "metadata": {
        "id": "j8xmLbDD37-r"
      },
      "source": [
        "#**Pembuka**\n",
        "Assalamu'alaikum warahmatullahi wabarakatuh. Puji syukur kehadirat Allah Subhana Wata'ala atas limpahan Rahmat dan HidayahNya kepada kita semua. Sholawat serta salam senantiasa tercurah limpahkan kepada baginda Muhammad Rasulullah Salallahualaihiwassalam.\n",
        "\n",
        "Halo para **Pejuang Data**. Selamat berjumpa di pertemuan kelima Program Training **Algoritma Machine Learning** Kelas Mahir.\n",
        "\n",
        "Pada pertemuan ini kamu akan belajar:\n",
        "*   Algoritma KNN\n",
        "*   Contoh Perhitungan Manual Algoritma KNN\n",
        "*   KNN Python From Scratch"
      ]
    },
    {
      "cell_type": "markdown",
      "metadata": {
        "id": "fSuuMp9v4AEb"
      },
      "source": [
        "#**Algoritma K-Nearest Neighbor(KNN)**\n",
        "Algoritma K-Nearest Neighbors adalah algoritma Machine Learning yang melakukan klasifikasi sebuah data didasarkan pada sifat-sifat data didekatnya. Sebuah ungkapan yang bisa membantu dengan mudah memahami ide dasar dari algoritma ini adalah: \"Jika kamu ingin mengetahui sifat seseorang, lihatlah sifat-sifat orang terdekatnya. Sifatnya tidak akan jauh berbeda dari mereka\".\n",
        "\n",
        "Gambar di bawah ini dapat mengilustrasikan hal di atas dengan jelas\n",
        "\n",
        "\n"
      ]
    },
    {
      "cell_type": "markdown",
      "metadata": {
        "id": "E0BFkDQS4Lyu"
      },
      "source": [
        "#**Algoritma KNN**\n",
        "1. Menentukan parameter k (jumlah tetangga paling dekat).\n",
        "2. Menghitung jarak eucliden objek terhadap data training yang diberikan.\n",
        "3. Mengurutkan hasil no 2 secara ascending (berurutan dari nilai tinggi ke rendah)\n",
        "4. Mengumpulkan kategori data (Klasifikasi nearest neighbor berdasarkan nilai k)\n",
        "5. Dengan menggunakan kategori nearest neighbor yang paling mayoritas maka dapat dipredisikan kategori\n",
        "objek"
      ]
    },
    {
      "cell_type": "markdown",
      "metadata": {
        "id": "yaGt7dnb4WN5"
      },
      "source": [
        "#**Contoh Perhitungan K-Nearest Neighbor**\n",
        "Diketahui data $x_1$ dan $x_2$ adalah sebagai berikut:\n",
        "\n",
        "\\begin{matrix}\n",
        " x_1 & x_2 & Kelas\\\\\n",
        "1 & 1 & 0\\\\\n",
        "2 & 2 & 0\\\\\n",
        "3 & 2 & 0\\\\\n",
        "12 & 11 & 1\\\\\n",
        "11 & 13 & 1\\\\\n",
        "14 & 15 & 1\\\\\n",
        "\\end{matrix}\n",
        "\n",
        "Kita diminta menentukan kelas dari data baru yaitu (9,10) dengan parameter k=3\n",
        "\n",
        "**Langkah 1:**\n",
        "\n",
        "Menentukan parameter k (jumlah tetangga paling dekat)\n",
        "\n",
        "k=3\n",
        "\n",
        "**Langkah 2:**\n",
        "\n",
        "Menghitung jarak eucliden objek terhadap data training yang diberikan. \n",
        "\n",
        "Formula jarak Euclidean:\n",
        "\n",
        "$$ d,j = \\sqrt{(x1_i - x1j)^2+(x2_i - x2_j)^2} \\ untuk, j= 1,2,3,....n $$\n",
        "\n",
        "\\begin{matrix}\n",
        " x_1 & x_2 & Jarak Euclidendengan(9,10)\\\\ \n",
        "1 & 1 & \\sqrt{(9-1)^2+(10-1)^2}= 12.04\\\\\n",
        "2 & 2 & \\sqrt{(9-2)^2+(10-2)^2}= 10.63\\\\\n",
        "3 & 2 & \\sqrt{(9-3)^2+(10-2)^2}= 10\\\\\n",
        "12 & 11 & \\sqrt{(9-12)^2+(10-11)^2} = 3.16\\\\\n",
        "11 & 13 & \\sqrt{(9-11)^2+(9-13)^2} = 3.60\\\\\n",
        "14 & 15 & \\sqrt{(9-14)^2+(9-15)^2} = 7.07\\\\\n",
        "\\end{matrix}\n",
        "\n",
        "**Langkah 3:**\n",
        "\n",
        "Mengurutkan hasil langkah 2 secara ascending (berurutan dari nilai tinggi ke rendah)\n",
        "\n",
        "\\begin{matrix}\n",
        " x_1 & x_2 & Jarak \\ Eucliden\\ dengan\\ (9,10) & Urutan(Jarak\\ terpendek)\\\\ \n",
        "1 & 1 & \\sqrt{(9-1)^2+(10-1)^2}= 12.04 & 6\\\\\n",
        "2 & 2 & \\sqrt{(9-2)^2+(10-2)^2}= 10.63 & 5\\\\\n",
        "3 & 2 & \\sqrt{(9-3)^2+(10-2)^2}= 10 & 4\\\\\n",
        "12 & 11 & \\sqrt{(9-12)^2+(10-11)^2} = 3.16 & 1\\\\\n",
        "11 & 13 & \\sqrt{(9-11)^2+(9-13)^2} = 3.60 & 2\\\\\n",
        "14 & 15 & \\sqrt{(9-14)^2+(9-15)^2} = 7.07 & 3\\\\\n",
        "\\end{matrix}\n",
        "\n",
        "**Langkah 4:**\n",
        "\n",
        "Mengumpulkan kategori data(klasifikasi nearest neighbor berdasarkan nilai k)\n",
        "\n",
        "Kelas data 3 data terdekat (k=3)\n",
        "\n",
        "$(12,11)=1, (11,13)=1, (14,15)=1$\n",
        "\n",
        "**Langkah 5:**\n",
        "\n",
        "Dengan menggunakan kategori nearest neighbor yang paling mayoritas maka dapat dipredisikan kategori objek.\n",
        "\n",
        "Kelas data untuk k=3\n",
        "\n",
        "$'0'=0,\\ '1'=3$\n",
        "\n",
        "Maka disimpulkan bahwa data (9,10) diklasifikasikan ke kelas '1'.\n",
        "\n"
      ]
    },
    {
      "cell_type": "markdown",
      "metadata": {
        "id": "8UBKxkTP4Z8G"
      },
      "source": [
        "#**KNN Python From Scratch**\n",
        "\n",
        "##**Membangun Model KNN**\n",
        "Pertama, import library python yang dibutuhkan yaitu:\n",
        "\n",
        "\n",
        "*   Numpy\n",
        "*   Pandas\n",
        "*   Matplotlib\n"
      ]
    },
    {
      "cell_type": "code",
      "metadata": {
        "id": "N8MImmaK4r1M"
      },
      "source": [
        "import numpy as np\n",
        "import pandas as pd\n",
        "import matplotlib.pyplot as plt\n",
        "%matplotlib inline"
      ],
      "execution_count": 31,
      "outputs": []
    },
    {
      "cell_type": "markdown",
      "metadata": {
        "id": "twObpLvB41Fp"
      },
      "source": [
        "Untuk memahami konsep, kita akan menggunakan data X dan Y seperti yang kita tunjukkan pada proses\n",
        "penghitungan manual."
      ]
    },
    {
      "cell_type": "code",
      "metadata": {
        "colab": {
          "base_uri": "https://localhost:8080/"
        },
        "id": "ebdWEKod47CB",
        "outputId": "cb57642b-6924-4d18-8732-44cf7874bced"
      },
      "source": [
        "X=np.array([[1,1], [2,2], [3,2], [12,11], [11,13], [14,15]])\n",
        "y=np.array([0,0,0,1,1,1])\n",
        "x_baru=np.array([9,10])\n",
        "X"
      ],
      "execution_count": 32,
      "outputs": [
        {
          "output_type": "execute_result",
          "data": {
            "text/plain": [
              "array([[ 1,  1],\n",
              "       [ 2,  2],\n",
              "       [ 3,  2],\n",
              "       [12, 11],\n",
              "       [11, 13],\n",
              "       [14, 15]])"
            ]
          },
          "metadata": {},
          "execution_count": 32
        }
      ]
    },
    {
      "cell_type": "code",
      "metadata": {
        "colab": {
          "base_uri": "https://localhost:8080/"
        },
        "id": "o5ffp3Ig4-cu",
        "outputId": "5c5d8e7b-91c9-4069-bc5d-038f5214d0b8"
      },
      "source": [
        "y"
      ],
      "execution_count": null,
      "outputs": [
        {
          "output_type": "execute_result",
          "data": {
            "text/plain": [
              "array([0, 0, 0, 1, 1, 1])"
            ]
          },
          "metadata": {},
          "execution_count": 4
        }
      ]
    },
    {
      "cell_type": "code",
      "metadata": {
        "colab": {
          "base_uri": "https://localhost:8080/"
        },
        "id": "m5L_dLKZ5bCI",
        "outputId": "9de1c211-cd3c-4be2-ce47-e7affbab61e0"
      },
      "source": [
        "x_baru"
      ],
      "execution_count": null,
      "outputs": [
        {
          "output_type": "execute_result",
          "data": {
            "text/plain": [
              "array([ 9, 10])"
            ]
          },
          "metadata": {},
          "execution_count": 5
        }
      ]
    },
    {
      "cell_type": "markdown",
      "metadata": {
        "id": "NRnWnu3c6bd_"
      },
      "source": [
        "**Langkah 1:**\n",
        "\n",
        "Menentukan parameter k (jumlah tetangga paling dekat)"
      ]
    },
    {
      "cell_type": "code",
      "metadata": {
        "id": "OFt_-Ind6eQo"
      },
      "source": [
        "k=3"
      ],
      "execution_count": 29,
      "outputs": []
    },
    {
      "cell_type": "markdown",
      "metadata": {
        "id": "CdRkQT9c6kvp"
      },
      "source": [
        "**Langkah 2:**\n",
        "\n",
        "Menghitung kuadrat jarak eucliden objek terhadap data training yang diberikan."
      ]
    },
    {
      "cell_type": "code",
      "metadata": {
        "id": "mR96KmtF6hy_"
      },
      "source": [
        "def jarak_euclidean(x,y):\n",
        " return np.sqrt(sum(pow(a-b, 2) for a, b in zip(x,y)))"
      ],
      "execution_count": 34,
      "outputs": []
    },
    {
      "cell_type": "code",
      "metadata": {
        "colab": {
          "base_uri": "https://localhost:8080/"
        },
        "id": "Nw6JYfg96xOW",
        "outputId": "d0ba70d5-face-4524-a8a8-c16de7527e0a"
      },
      "source": [
        "jarak=[]\n",
        "for x_i in X:\n",
        " jarak_euclid=jarak_euclidean(x_i,x_baru)\n",
        " jarak.append(jarak_euclid)\n",
        " print(jarak)\n",
        "print(jarak)"
      ],
      "execution_count": 35,
      "outputs": [
        {
          "output_type": "stream",
          "name": "stdout",
          "text": [
            "[12.041594578792296]\n",
            "[12.041594578792296, 10.63014581273465]\n",
            "[12.041594578792296, 10.63014581273465, 10.0]\n",
            "[12.041594578792296, 10.63014581273465, 10.0, 3.1622776601683795]\n",
            "[12.041594578792296, 10.63014581273465, 10.0, 3.1622776601683795, 3.605551275463989]\n",
            "[12.041594578792296, 10.63014581273465, 10.0, 3.1622776601683795, 3.605551275463989, 7.0710678118654755]\n",
            "[12.041594578792296, 10.63014581273465, 10.0, 3.1622776601683795, 3.605551275463989, 7.0710678118654755]\n"
          ]
        }
      ]
    },
    {
      "cell_type": "markdown",
      "metadata": {
        "id": "xYDhWX5765VN"
      },
      "source": [
        "**Langkah 3:**\n",
        "\n",
        "Mengurutkan hasil langkah 2 secara ascending (berurutan dari nilai tinggi ke rendah)"
      ]
    },
    {
      "cell_type": "code",
      "metadata": {
        "colab": {
          "base_uri": "https://localhost:8080/"
        },
        "id": "tSpYXPwB6zfF",
        "outputId": "2d1870f8-92ee-49f1-cd1a-fa1ca1da1492"
      },
      "source": [
        "urut=np.sort(jarak)\n",
        "list_urut=[]\n",
        "for i in range(len(urut)):\n",
        " list_urut.append(urut[i])\n",
        "print(list_urut)"
      ],
      "execution_count": 36,
      "outputs": [
        {
          "output_type": "stream",
          "name": "stdout",
          "text": [
            "[3.1622776601683795, 3.605551275463989, 7.0710678118654755, 10.0, 10.63014581273465, 12.041594578792296]\n"
          ]
        }
      ]
    },
    {
      "cell_type": "code",
      "metadata": {
        "colab": {
          "base_uri": "https://localhost:8080/"
        },
        "id": "C_Qc_oLg69dm",
        "outputId": "1fcbcb87-1626-41ae-dd97-2a6156306693"
      },
      "source": [
        "urutan=[]\n",
        "for i in list_urut:\n",
        " urtn=jarak.index(i)\n",
        " urutan.append(urtn)\n",
        "print(urutan)"
      ],
      "execution_count": 37,
      "outputs": [
        {
          "output_type": "stream",
          "name": "stdout",
          "text": [
            "[3, 4, 5, 2, 1, 0]\n"
          ]
        }
      ]
    },
    {
      "cell_type": "markdown",
      "metadata": {
        "id": "OS8vPiQL7Fln"
      },
      "source": [
        "atau dengan sederhana dapat menggunakan np.argsort seperti berikut:"
      ]
    },
    {
      "cell_type": "code",
      "metadata": {
        "colab": {
          "base_uri": "https://localhost:8080/"
        },
        "id": "hWhakh5u7CBS",
        "outputId": "1c7f477c-8569-412c-f5b9-72789184a5de"
      },
      "source": [
        "np.argsort(jarak)"
      ],
      "execution_count": 38,
      "outputs": [
        {
          "output_type": "execute_result",
          "data": {
            "text/plain": [
              "array([3, 4, 5, 2, 1, 0])"
            ]
          },
          "metadata": {},
          "execution_count": 38
        }
      ]
    },
    {
      "cell_type": "markdown",
      "metadata": {
        "id": "fPZlWpxh7WTq"
      },
      "source": [
        "**Langkah 4:**\n",
        "\n",
        "Mengumpulkan kategori data (Klasifikasi nearest neighbor berdasarkan nilai k)\n",
        "\n",
        "Kelas data 3 data terdekat(k=3)"
      ]
    },
    {
      "cell_type": "code",
      "metadata": {
        "colab": {
          "base_uri": "https://localhost:8080/"
        },
        "id": "fFEdmotW7ZSm",
        "outputId": "46e73e6f-7ef3-4910-c843-0bf62dcff4c5"
      },
      "source": [
        "ambil=urutan[:k]\n",
        "print(y[ambil])"
      ],
      "execution_count": 39,
      "outputs": [
        {
          "output_type": "stream",
          "name": "stdout",
          "text": [
            "[1 1 1]\n"
          ]
        }
      ]
    },
    {
      "cell_type": "markdown",
      "metadata": {
        "id": "Sjyh8YPm7hNs"
      },
      "source": [
        "**Langkah 5:**\n",
        "\n",
        "Dengan menggunakan kategori nearest neighbor yang paling mayoritas maka dapat dipredisikan kategori\n",
        "objek."
      ]
    },
    {
      "cell_type": "code",
      "metadata": {
        "colab": {
          "base_uri": "https://localhost:8080/"
        },
        "id": "SAAV_pVx7cZL",
        "outputId": "4706b9ae-4efc-4877-d17e-93d181ef098f"
      },
      "source": [
        "from collections import Counter\n",
        "kelas_paling_banyak = Counter(y[ambil]).most_common(1)\n",
        "kelas_paling_banyak"
      ],
      "execution_count": 40,
      "outputs": [
        {
          "output_type": "execute_result",
          "data": {
            "text/plain": [
              "[(1, 3)]"
            ]
          },
          "metadata": {},
          "execution_count": 40
        }
      ]
    },
    {
      "cell_type": "code",
      "metadata": {
        "colab": {
          "base_uri": "https://localhost:8080/"
        },
        "id": "wryrvruK7gAF",
        "outputId": "b73e9468-c645-4cd0-ce60-3323460c711a"
      },
      "source": [
        "kelas_paling_banyak[0][0]"
      ],
      "execution_count": 41,
      "outputs": [
        {
          "output_type": "execute_result",
          "data": {
            "text/plain": [
              "1"
            ]
          },
          "metadata": {},
          "execution_count": 41
        }
      ]
    },
    {
      "cell_type": "code",
      "metadata": {
        "colab": {
          "base_uri": "https://localhost:8080/",
          "height": 280
        },
        "id": "pXeDpThP7qm0",
        "outputId": "dd0a936c-46bc-48bd-e975-99e8a6896c12"
      },
      "source": [
        "# Plot Data\n",
        "df = pd.DataFrame(X, columns =['x1', 'x2'])\n",
        "colormap = np.array(['g', 'b'])\n",
        "label=['A', 'A', 'A', 'B', 'B', 'B']\n",
        "# Plot Titik Data\n",
        "plt.scatter(df['x1'], df['x2'], color=colormap[y])\n",
        "\n",
        "plt.scatter(x_baru[0], x_baru[1], color='r', label='Data Baru')\n",
        "# Label sumbu\n",
        "plt.xlabel('x_1')\n",
        "\n",
        "# Label sumbu y\n",
        "plt.ylabel('x_2')\n",
        "\n",
        "# Menampilkan Legenda\n",
        "plt.legend()\n",
        "\n",
        "# Menampilkan Gambar Hasil Plot\n",
        "plt.show()"
      ],
      "execution_count": 42,
      "outputs": [
        {
          "output_type": "display_data",
          "data": {
            "image/png": "[encoded data removed]",
            "text/plain": [
              "<Figure size 432x288 with 1 Axes>"
            ]
          },
          "metadata": {
            "needs_background": "light"
          }
        }
      ]
    },
    {
      "cell_type": "markdown",
      "metadata": {
        "id": "ffKDyAkv7uvJ"
      },
      "source": [
        "Maka disimpulkan bahwa data (9,10) diklasifikasikan ke kelas '1'."
      ]
    },
    {
      "cell_type": "markdown",
      "metadata": {
        "id": "s_LKc0gj741E"
      },
      "source": [
        "#**Implementasi Model KNN Pada Data Real**\n",
        "\n",
        "Kita akan menggunakan dataset Iris yang tersedia di sklearn dataset.\n"
      ]
    },
    {
      "cell_type": "code",
      "metadata": {
        "colab": {
          "base_uri": "https://localhost:8080/"
        },
        "id": "2RuTJRv_72gm",
        "outputId": "b954a180-2f62-4234-c5cb-5da63e1c3426"
      },
      "source": [
        "from matplotlib.colors import ListedColormap\n",
        "from sklearn import datasets\n",
        "from sklearn.model_selection import train_test_split\n",
        "iris = datasets.load_iris()\n",
        "iris"
      ],
      "execution_count": 72,
      "outputs": [
        {
          "output_type": "execute_result",
          "data": {
            "text/plain": [
              "{'DESCR': '.. _iris_dataset:\\n\\nIris plants dataset\\n--------------------\\n\\n**Data Set Characteristics:**\\n\\n    :Number of Instances: 150 (50 in each of three classes)\\n    :Number of Attributes: 4 numeric, predictive attributes and the class\\n    :Attribute Information:\\n        - sepal length in cm\\n        - sepal width in cm\\n        - petal length in cm\\n        - petal width in cm\\n        - class:\\n                - Iris-Setosa\\n                - Iris-Versicolour\\n                - Iris-Virginica\\n                \\n    :Summary Statistics:\\n\\n    ============== ==== ==== ======= ===== ====================\\n                    Min  Max   Mean    SD   Class Correlation\\n    ============== ==== ==== ======= ===== ====================\\n    sepal length:   4.3  7.9   5.84   0.83    0.7826\\n    sepal width:    2.0  4.4   3.05   0.43   -0.4194\\n    petal length:   1.0  6.9   3.76   1.76    0.9490  (high!)\\n    petal width:    0.1  2.5   1.20   0.76    0.9565  (high!)\\n    ============== ==== ==== ======= ===== ====================\\n\\n    :Missing Attribute Values: None\\n    :Class Distribution: 33.3% for each of 3 classes.\\n    :Creator: R.A. Fisher\\n    :Donor: Michael Marshall (MARSHALL%PLU@io.arc.nasa.gov)\\n    :Date: July, 1988\\n\\nThe famous Iris database, first used by Sir R.A. Fisher. The dataset is taken\\nfrom Fisher\\'s paper. Note that it\\'s the same as in R, but not as in the UCI\\nMachine Learning Repository, which has two wrong data points.\\n\\nThis is perhaps the best known database to be found in the\\npattern recognition literature.  Fisher\\'s paper is a classic in the field and\\nis referenced frequently to this day.  (See Duda & Hart, for example.)  The\\ndata set contains 3 classes of 50 instances each, where each class refers to a\\ntype of iris plant.  One class is linearly separable from the other 2; the\\nlatter are NOT linearly separable from each other.\\n\\n.. topic:: References\\n\\n   - Fisher, R.A. \"The use of multiple measurements in taxonomic problems\"\\n     Annual Eugenics, 7, Part II, 179-188 (1936); also in \"Contributions to\\n     Mathematical Statistics\" (John Wiley, NY, 1950).\\n   - Duda, R.O., & Hart, P.E. (1973) Pattern Classification and Scene Analysis.\\n     (Q327.D83) John Wiley & Sons.  ISBN 0-471-22361-1.  See page 218.\\n   - Dasarathy, B.V. (1980) \"Nosing Around the Neighborhood: A New System\\n     Structure and Classification Rule for Recognition in Partially Exposed\\n     Environments\".  IEEE Transactions on Pattern Analysis and Machine\\n     Intelligence, Vol. PAMI-2, No. 1, 67-71.\\n   - Gates, G.W. (1972) \"The Reduced Nearest Neighbor Rule\".  IEEE Transactions\\n     on Information Theory, May 1972, 431-433.\\n   - See also: 1988 MLC Proceedings, 54-64.  Cheeseman et al\"s AUTOCLASS II\\n     conceptual clustering system finds 3 classes in the data.\\n   - Many, many more ...',\n",
              " 'data': array([[5.1, 3.5, 1.4, 0.2],\n",
              "        [4.9, 3. , 1.4, 0.2],\n",
              "        [4.7, 3.2, 1.3, 0.2],\n",
              "        [4.6, 3.1, 1.5, 0.2],\n",
              "        [5. , 3.6, 1.4, 0.2],\n",
              "        [5.4, 3.9, 1.7, 0.4],\n",
              "        [4.6, 3.4, 1.4, 0.3],\n",
              "        [5. , 3.4, 1.5, 0.2],\n",
              "        [4.4, 2.9, 1.4, 0.2],\n",
              "        [4.9, 3.1, 1.5, 0.1],\n",
              "        [5.4, 3.7, 1.5, 0.2],\n",
              "        [4.8, 3.4, 1.6, 0.2],\n",
              "        [4.8, 3. , 1.4, 0.1],\n",
              "        [4.3, 3. , 1.1, 0.1],\n",
              "        [5.8, 4. , 1.2, 0.2],\n",
              "        [5.7, 4.4, 1.5, 0.4],\n",
              "        [5.4, 3.9, 1.3, 0.4],\n",
              "        [5.1, 3.5, 1.4, 0.3],\n",
              "        [5.7, 3.8, 1.7, 0.3],\n",
              "        [5.1, 3.8, 1.5, 0.3],\n",
              "        [5.4, 3.4, 1.7, 0.2],\n",
              "        [5.1, 3.7, 1.5, 0.4],\n",
              "        [4.6, 3.6, 1. , 0.2],\n",
              "        [5.1, 3.3, 1.7, 0.5],\n",
              "        [4.8, 3.4, 1.9, 0.2],\n",
              "        [5. , 3. , 1.6, 0.2],\n",
              "        [5. , 3.4, 1.6, 0.4],\n",
              "        [5.2, 3.5, 1.5, 0.2],\n",
              "        [5.2, 3.4, 1.4, 0.2],\n",
              "        [4.7, 3.2, 1.6, 0.2],\n",
              "        [4.8, 3.1, 1.6, 0.2],\n",
              "        [5.4, 3.4, 1.5, 0.4],\n",
              "        [5.2, 4.1, 1.5, 0.1],\n",
              "        [5.5, 4.2, 1.4, 0.2],\n",
              "        [4.9, 3.1, 1.5, 0.2],\n",
              "        [5. , 3.2, 1.2, 0.2],\n",
              "        [5.5, 3.5, 1.3, 0.2],\n",
              "        [4.9, 3.6, 1.4, 0.1],\n",
              "        [4.4, 3. , 1.3, 0.2],\n",
              "        [5.1, 3.4, 1.5, 0.2],\n",
              "        [5. , 3.5, 1.3, 0.3],\n",
              "        [4.5, 2.3, 1.3, 0.3],\n",
              "        [4.4, 3.2, 1.3, 0.2],\n",
              "        [5. , 3.5, 1.6, 0.6],\n",
              "        [5.1, 3.8, 1.9, 0.4],\n",
              "        [4.8, 3. , 1.4, 0.3],\n",
              "        [5.1, 3.8, 1.6, 0.2],\n",
              "        [4.6, 3.2, 1.4, 0.2],\n",
              "        [5.3, 3.7, 1.5, 0.2],\n",
              "        [5. , 3.3, 1.4, 0.2],\n",
              "        [7. , 3.2, 4.7, 1.4],\n",
              "        [6.4, 3.2, 4.5, 1.5],\n",
              "        [6.9, 3.1, 4.9, 1.5],\n",
              "        [5.5, 2.3, 4. , 1.3],\n",
              "        [6.5, 2.8, 4.6, 1.5],\n",
              "        [5.7, 2.8, 4.5, 1.3],\n",
              "        [6.3, 3.3, 4.7, 1.6],\n",
              "        [4.9, 2.4, 3.3, 1. ],\n",
              "        [6.6, 2.9, 4.6, 1.3],\n",
              "        [5.2, 2.7, 3.9, 1.4],\n",
              "        [5. , 2. , 3.5, 1. ],\n",
              "        [5.9, 3. , 4.2, 1.5],\n",
              "        [6. , 2.2, 4. , 1. ],\n",
              "        [6.1, 2.9, 4.7, 1.4],\n",
              "        [5.6, 2.9, 3.6, 1.3],\n",
              "        [6.7, 3.1, 4.4, 1.4],\n",
              "        [5.6, 3. , 4.5, 1.5],\n",
              "        [5.8, 2.7, 4.1, 1. ],\n",
              "        [6.2, 2.2, 4.5, 1.5],\n",
              "        [5.6, 2.5, 3.9, 1.1],\n",
              "        [5.9, 3.2, 4.8, 1.8],\n",
              "        [6.1, 2.8, 4. , 1.3],\n",
              "        [6.3, 2.5, 4.9, 1.5],\n",
              "        [6.1, 2.8, 4.7, 1.2],\n",
              "        [6.4, 2.9, 4.3, 1.3],\n",
              "        [6.6, 3. , 4.4, 1.4],\n",
              "        [6.8, 2.8, 4.8, 1.4],\n",
              "        [6.7, 3. , 5. , 1.7],\n",
              "        [6. , 2.9, 4.5, 1.5],\n",
              "        [5.7, 2.6, 3.5, 1. ],\n",
              "        [5.5, 2.4, 3.8, 1.1],\n",
              "        [5.5, 2.4, 3.7, 1. ],\n",
              "        [5.8, 2.7, 3.9, 1.2],\n",
              "        [6. , 2.7, 5.1, 1.6],\n",
              "        [5.4, 3. , 4.5, 1.5],\n",
              "        [6. , 3.4, 4.5, 1.6],\n",
              "        [6.7, 3.1, 4.7, 1.5],\n",
              "        [6.3, 2.3, 4.4, 1.3],\n",
              "        [5.6, 3. , 4.1, 1.3],\n",
              "        [5.5, 2.5, 4. , 1.3],\n",
              "        [5.5, 2.6, 4.4, 1.2],\n",
              "        [6.1, 3. , 4.6, 1.4],\n",
              "        [5.8, 2.6, 4. , 1.2],\n",
              "        [5. , 2.3, 3.3, 1. ],\n",
              "        [5.6, 2.7, 4.2, 1.3],\n",
              "        [5.7, 3. , 4.2, 1.2],\n",
              "        [5.7, 2.9, 4.2, 1.3],\n",
              "        [6.2, 2.9, 4.3, 1.3],\n",
              "        [5.1, 2.5, 3. , 1.1],\n",
              "        [5.7, 2.8, 4.1, 1.3],\n",
              "        [6.3, 3.3, 6. , 2.5],\n",
              "        [5.8, 2.7, 5.1, 1.9],\n",
              "        [7.1, 3. , 5.9, 2.1],\n",
              "        [6.3, 2.9, 5.6, 1.8],\n",
              "        [6.5, 3. , 5.8, 2.2],\n",
              "        [7.6, 3. , 6.6, 2.1],\n",
              "        [4.9, 2.5, 4.5, 1.7],\n",
              "        [7.3, 2.9, 6.3, 1.8],\n",
              "        [6.7, 2.5, 5.8, 1.8],\n",
              "        [7.2, 3.6, 6.1, 2.5],\n",
              "        [6.5, 3.2, 5.1, 2. ],\n",
              "        [6.4, 2.7, 5.3, 1.9],\n",
              "        [6.8, 3. , 5.5, 2.1],\n",
              "        [5.7, 2.5, 5. , 2. ],\n",
              "        [5.8, 2.8, 5.1, 2.4],\n",
              "        [6.4, 3.2, 5.3, 2.3],\n",
              "        [6.5, 3. , 5.5, 1.8],\n",
              "        [7.7, 3.8, 6.7, 2.2],\n",
              "        [7.7, 2.6, 6.9, 2.3],\n",
              "        [6. , 2.2, 5. , 1.5],\n",
              "        [6.9, 3.2, 5.7, 2.3],\n",
              "        [5.6, 2.8, 4.9, 2. ],\n",
              "        [7.7, 2.8, 6.7, 2. ],\n",
              "        [6.3, 2.7, 4.9, 1.8],\n",
              "        [6.7, 3.3, 5.7, 2.1],\n",
              "        [7.2, 3.2, 6. , 1.8],\n",
              "        [6.2, 2.8, 4.8, 1.8],\n",
              "        [6.1, 3. , 4.9, 1.8],\n",
              "        [6.4, 2.8, 5.6, 2.1],\n",
              "        [7.2, 3. , 5.8, 1.6],\n",
              "        [7.4, 2.8, 6.1, 1.9],\n",
              "        [7.9, 3.8, 6.4, 2. ],\n",
              "        [6.4, 2.8, 5.6, 2.2],\n",
              "        [6.3, 2.8, 5.1, 1.5],\n",
              "        [6.1, 2.6, 5.6, 1.4],\n",
              "        [7.7, 3. , 6.1, 2.3],\n",
              "        [6.3, 3.4, 5.6, 2.4],\n",
              "        [6.4, 3.1, 5.5, 1.8],\n",
              "        [6. , 3. , 4.8, 1.8],\n",
              "        [6.9, 3.1, 5.4, 2.1],\n",
              "        [6.7, 3.1, 5.6, 2.4],\n",
              "        [6.9, 3.1, 5.1, 2.3],\n",
              "        [5.8, 2.7, 5.1, 1.9],\n",
              "        [6.8, 3.2, 5.9, 2.3],\n",
              "        [6.7, 3.3, 5.7, 2.5],\n",
              "        [6.7, 3. , 5.2, 2.3],\n",
              "        [6.3, 2.5, 5. , 1.9],\n",
              "        [6.5, 3. , 5.2, 2. ],\n",
              "        [6.2, 3.4, 5.4, 2.3],\n",
              "        [5.9, 3. , 5.1, 1.8]]),\n",
              " 'feature_names': ['sepal length (cm)',\n",
              "  'sepal width (cm)',\n",
              "  'petal length (cm)',\n",
              "  'petal width (cm)'],\n",
              " 'filename': '/usr/local/lib/python3.7/dist-packages/sklearn/datasets/data/iris.csv',\n",
              " 'target': array([0, 0, 0, 0, 0, 0, 0, 0, 0, 0, 0, 0, 0, 0, 0, 0, 0, 0, 0, 0, 0, 0,\n",
              "        0, 0, 0, 0, 0, 0, 0, 0, 0, 0, 0, 0, 0, 0, 0, 0, 0, 0, 0, 0, 0, 0,\n",
              "        0, 0, 0, 0, 0, 0, 1, 1, 1, 1, 1, 1, 1, 1, 1, 1, 1, 1, 1, 1, 1, 1,\n",
              "        1, 1, 1, 1, 1, 1, 1, 1, 1, 1, 1, 1, 1, 1, 1, 1, 1, 1, 1, 1, 1, 1,\n",
              "        1, 1, 1, 1, 1, 1, 1, 1, 1, 1, 1, 1, 2, 2, 2, 2, 2, 2, 2, 2, 2, 2,\n",
              "        2, 2, 2, 2, 2, 2, 2, 2, 2, 2, 2, 2, 2, 2, 2, 2, 2, 2, 2, 2, 2, 2,\n",
              "        2, 2, 2, 2, 2, 2, 2, 2, 2, 2, 2, 2, 2, 2, 2, 2, 2, 2]),\n",
              " 'target_names': array(['setosa', 'versicolor', 'virginica'], dtype='<U10')}"
            ]
          },
          "metadata": {},
          "execution_count": 72
        }
      ]
    },
    {
      "cell_type": "markdown",
      "metadata": {
        "id": "paB7ZIvJ8Dcf"
      },
      "source": [
        "Memilih dataset X(iris.data) dan dataset y(iris.target)."
      ]
    },
    {
      "cell_type": "code",
      "metadata": {
        "id": "LC_3p_ta79sl"
      },
      "source": [
        "X, y = iris.data, iris.target"
      ],
      "execution_count": 25,
      "outputs": []
    },
    {
      "cell_type": "markdown",
      "metadata": {
        "id": "zUJS4uF38hvm"
      },
      "source": [
        "Membagi dataset menjadi data latih dan data uji"
      ]
    },
    {
      "cell_type": "code",
      "metadata": {
        "id": "LG79RZIY8IB3"
      },
      "source": [
        "X_latih, X_uji, y_latih, y_uji = train_test_split(X, y, test_size=0.20, random_state=1234)\n"
      ],
      "execution_count": 26,
      "outputs": []
    },
    {
      "cell_type": "markdown",
      "metadata": {
        "id": "MS_t-e-u86oi"
      },
      "source": [
        "Menuliskan algoritma KNN dalam bentuk *fungsi*"
      ]
    },
    {
      "cell_type": "code",
      "metadata": {
        "id": "0X3r2_H-852w"
      },
      "source": [
        "def _knn(x):\n",
        " # Menghitung jarak antara x baru dengan semua sampel di data latih\n",
        " jarak = [jarak_euclidean(x, x_latih) for x_latih in X_latih]\n",
        " # Mengurutkan data dan mengambil sejumlah k objek\n",
        " k_idx = np.argsort(jarak)[: k]\n",
        " # Mengambil kelas dari k tetangga terdekat dari data latih\n",
        " k_neighbor_labels = [y_latih[i] for i in k_idx]\n",
        " # Mengambil kelas yang paling sering muncul\n",
        " kelas_paling_banyak = Counter(k_neighbor_labels).most_common(1)\n",
        " return kelas_paling_banyak[0][0]\n",
        " \n",
        "def KNN(X_latih, y_latih, k, x_baru):\n",
        " y_pred= [_knn(x_i) for x_i in x_baru]\n",
        " return np.array(y_pred)"
      ],
      "execution_count": 27,
      "outputs": []
    },
    {
      "cell_type": "code",
      "metadata": {
        "colab": {
          "base_uri": "https://localhost:8080/",
          "height": 323
        },
        "id": "YfK3kgA49DDu",
        "outputId": "9c23bd26-dc98-4377-b3d3-02d531b70dc9"
      },
      "source": [
        "y_pred=KNN(X_latih, y_latih, k, X_uji)\n",
        "y_pred"
      ],
      "execution_count": 30,
      "outputs": [
        {
          "output_type": "error",
          "ename": "NameError",
          "evalue": "ignored",
          "traceback": [
            "\u001b[0;31m---------------------------------------------------------------------------\u001b[0m",
            "\u001b[0;31mNameError\u001b[0m                                 Traceback (most recent call last)",
            "\u001b[0;32m<ipython-input-30-f533b25ef0fe>\u001b[0m in \u001b[0;36m<module>\u001b[0;34m()\u001b[0m\n\u001b[0;32m----> 1\u001b[0;31m \u001b[0my_pred\u001b[0m\u001b[0;34m=\u001b[0m\u001b[0mKNN\u001b[0m\u001b[0;34m(\u001b[0m\u001b[0mX_latih\u001b[0m\u001b[0;34m,\u001b[0m \u001b[0my_latih\u001b[0m\u001b[0;34m,\u001b[0m \u001b[0mk\u001b[0m\u001b[0;34m,\u001b[0m \u001b[0mX_uji\u001b[0m\u001b[0;34m)\u001b[0m\u001b[0;34m\u001b[0m\u001b[0;34m\u001b[0m\u001b[0m\n\u001b[0m\u001b[1;32m      2\u001b[0m \u001b[0my_pred\u001b[0m\u001b[0;34m\u001b[0m\u001b[0;34m\u001b[0m\u001b[0m\n",
            "\u001b[0;32m<ipython-input-27-3adc96354391>\u001b[0m in \u001b[0;36mKNN\u001b[0;34m(X_latih, y_latih, k, x_baru)\u001b[0m\n\u001b[1;32m     11\u001b[0m \u001b[0;34m\u001b[0m\u001b[0m\n\u001b[1;32m     12\u001b[0m \u001b[0;32mdef\u001b[0m \u001b[0mKNN\u001b[0m\u001b[0;34m(\u001b[0m\u001b[0mX_latih\u001b[0m\u001b[0;34m,\u001b[0m \u001b[0my_latih\u001b[0m\u001b[0;34m,\u001b[0m \u001b[0mk\u001b[0m\u001b[0;34m,\u001b[0m \u001b[0mx_baru\u001b[0m\u001b[0;34m)\u001b[0m\u001b[0;34m:\u001b[0m\u001b[0;34m\u001b[0m\u001b[0;34m\u001b[0m\u001b[0m\n\u001b[0;32m---> 13\u001b[0;31m  \u001b[0my_pred\u001b[0m\u001b[0;34m=\u001b[0m \u001b[0;34m[\u001b[0m\u001b[0m_knn\u001b[0m\u001b[0;34m(\u001b[0m\u001b[0mx_i\u001b[0m\u001b[0;34m)\u001b[0m \u001b[0;32mfor\u001b[0m \u001b[0mx_i\u001b[0m \u001b[0;32min\u001b[0m \u001b[0mx_baru\u001b[0m\u001b[0;34m]\u001b[0m\u001b[0;34m\u001b[0m\u001b[0;34m\u001b[0m\u001b[0m\n\u001b[0m\u001b[1;32m     14\u001b[0m  \u001b[0;32mreturn\u001b[0m \u001b[0mnp\u001b[0m\u001b[0;34m.\u001b[0m\u001b[0marray\u001b[0m\u001b[0;34m(\u001b[0m\u001b[0my_pred\u001b[0m\u001b[0;34m)\u001b[0m\u001b[0;34m\u001b[0m\u001b[0;34m\u001b[0m\u001b[0m\n",
            "\u001b[0;32m<ipython-input-27-3adc96354391>\u001b[0m in \u001b[0;36m<listcomp>\u001b[0;34m(.0)\u001b[0m\n\u001b[1;32m     11\u001b[0m \u001b[0;34m\u001b[0m\u001b[0m\n\u001b[1;32m     12\u001b[0m \u001b[0;32mdef\u001b[0m \u001b[0mKNN\u001b[0m\u001b[0;34m(\u001b[0m\u001b[0mX_latih\u001b[0m\u001b[0;34m,\u001b[0m \u001b[0my_latih\u001b[0m\u001b[0;34m,\u001b[0m \u001b[0mk\u001b[0m\u001b[0;34m,\u001b[0m \u001b[0mx_baru\u001b[0m\u001b[0;34m)\u001b[0m\u001b[0;34m:\u001b[0m\u001b[0;34m\u001b[0m\u001b[0;34m\u001b[0m\u001b[0m\n\u001b[0;32m---> 13\u001b[0;31m  \u001b[0my_pred\u001b[0m\u001b[0;34m=\u001b[0m \u001b[0;34m[\u001b[0m\u001b[0m_knn\u001b[0m\u001b[0;34m(\u001b[0m\u001b[0mx_i\u001b[0m\u001b[0;34m)\u001b[0m \u001b[0;32mfor\u001b[0m \u001b[0mx_i\u001b[0m \u001b[0;32min\u001b[0m \u001b[0mx_baru\u001b[0m\u001b[0;34m]\u001b[0m\u001b[0;34m\u001b[0m\u001b[0;34m\u001b[0m\u001b[0m\n\u001b[0m\u001b[1;32m     14\u001b[0m  \u001b[0;32mreturn\u001b[0m \u001b[0mnp\u001b[0m\u001b[0;34m.\u001b[0m\u001b[0marray\u001b[0m\u001b[0;34m(\u001b[0m\u001b[0my_pred\u001b[0m\u001b[0;34m)\u001b[0m\u001b[0;34m\u001b[0m\u001b[0;34m\u001b[0m\u001b[0m\n",
            "\u001b[0;32m<ipython-input-27-3adc96354391>\u001b[0m in \u001b[0;36m_knn\u001b[0;34m(x)\u001b[0m\n\u001b[1;32m      1\u001b[0m \u001b[0;32mdef\u001b[0m \u001b[0m_knn\u001b[0m\u001b[0;34m(\u001b[0m\u001b[0mx\u001b[0m\u001b[0;34m)\u001b[0m\u001b[0;34m:\u001b[0m\u001b[0;34m\u001b[0m\u001b[0;34m\u001b[0m\u001b[0m\n\u001b[1;32m      2\u001b[0m  \u001b[0;31m# Menghitung jarak antara x baru dengan semua sampel di data latih\u001b[0m\u001b[0;34m\u001b[0m\u001b[0;34m\u001b[0m\u001b[0;34m\u001b[0m\u001b[0m\n\u001b[0;32m----> 3\u001b[0;31m  \u001b[0mjarak\u001b[0m \u001b[0;34m=\u001b[0m \u001b[0;34m[\u001b[0m\u001b[0mjarak_euclidean\u001b[0m\u001b[0;34m(\u001b[0m\u001b[0mx\u001b[0m\u001b[0;34m,\u001b[0m \u001b[0mx_latih\u001b[0m\u001b[0;34m)\u001b[0m \u001b[0;32mfor\u001b[0m \u001b[0mx_latih\u001b[0m \u001b[0;32min\u001b[0m \u001b[0mX_latih\u001b[0m\u001b[0;34m]\u001b[0m\u001b[0;34m\u001b[0m\u001b[0;34m\u001b[0m\u001b[0m\n\u001b[0m\u001b[1;32m      4\u001b[0m  \u001b[0;31m# Mengurutkan data dan mengambil sejumlah k objek\u001b[0m\u001b[0;34m\u001b[0m\u001b[0;34m\u001b[0m\u001b[0;34m\u001b[0m\u001b[0m\n\u001b[1;32m      5\u001b[0m  \u001b[0mk_idx\u001b[0m \u001b[0;34m=\u001b[0m \u001b[0mnp\u001b[0m\u001b[0;34m.\u001b[0m\u001b[0margsort\u001b[0m\u001b[0;34m(\u001b[0m\u001b[0mjarak\u001b[0m\u001b[0;34m)\u001b[0m\u001b[0;34m[\u001b[0m\u001b[0;34m:\u001b[0m \u001b[0mk\u001b[0m\u001b[0;34m]\u001b[0m\u001b[0;34m\u001b[0m\u001b[0;34m\u001b[0m\u001b[0m\n",
            "\u001b[0;32m<ipython-input-27-3adc96354391>\u001b[0m in \u001b[0;36m<listcomp>\u001b[0;34m(.0)\u001b[0m\n\u001b[1;32m      1\u001b[0m \u001b[0;32mdef\u001b[0m \u001b[0m_knn\u001b[0m\u001b[0;34m(\u001b[0m\u001b[0mx\u001b[0m\u001b[0;34m)\u001b[0m\u001b[0;34m:\u001b[0m\u001b[0;34m\u001b[0m\u001b[0;34m\u001b[0m\u001b[0m\n\u001b[1;32m      2\u001b[0m  \u001b[0;31m# Menghitung jarak antara x baru dengan semua sampel di data latih\u001b[0m\u001b[0;34m\u001b[0m\u001b[0;34m\u001b[0m\u001b[0;34m\u001b[0m\u001b[0m\n\u001b[0;32m----> 3\u001b[0;31m  \u001b[0mjarak\u001b[0m \u001b[0;34m=\u001b[0m \u001b[0;34m[\u001b[0m\u001b[0mjarak_euclidean\u001b[0m\u001b[0;34m(\u001b[0m\u001b[0mx\u001b[0m\u001b[0;34m,\u001b[0m \u001b[0mx_latih\u001b[0m\u001b[0;34m)\u001b[0m \u001b[0;32mfor\u001b[0m \u001b[0mx_latih\u001b[0m \u001b[0;32min\u001b[0m \u001b[0mX_latih\u001b[0m\u001b[0;34m]\u001b[0m\u001b[0;34m\u001b[0m\u001b[0;34m\u001b[0m\u001b[0m\n\u001b[0m\u001b[1;32m      4\u001b[0m  \u001b[0;31m# Mengurutkan data dan mengambil sejumlah k objek\u001b[0m\u001b[0;34m\u001b[0m\u001b[0;34m\u001b[0m\u001b[0;34m\u001b[0m\u001b[0m\n\u001b[1;32m      5\u001b[0m  \u001b[0mk_idx\u001b[0m \u001b[0;34m=\u001b[0m \u001b[0mnp\u001b[0m\u001b[0;34m.\u001b[0m\u001b[0margsort\u001b[0m\u001b[0;34m(\u001b[0m\u001b[0mjarak\u001b[0m\u001b[0;34m)\u001b[0m\u001b[0;34m[\u001b[0m\u001b[0;34m:\u001b[0m \u001b[0mk\u001b[0m\u001b[0;34m]\u001b[0m\u001b[0;34m\u001b[0m\u001b[0;34m\u001b[0m\u001b[0m\n",
            "\u001b[0;31mNameError\u001b[0m: name 'jarak_euclidean' is not defined"
          ]
        }
      ]
    },
    {
      "cell_type": "code",
      "metadata": {
        "colab": {
          "base_uri": "https://localhost:8080/"
        },
        "id": "3lVYIOPf9GOt",
        "outputId": "46d62577-7712-4281-dc76-744814fa9860"
      },
      "source": [
        "y_uji"
      ],
      "execution_count": null,
      "outputs": [
        {
          "output_type": "execute_result",
          "data": {
            "text/plain": [
              "array([1, 1, 2, 0, 1, 0, 0, 0, 1, 2, 1, 0, 2, 1, 0, 1, 2, 0, 2, 1, 1, 1,\n",
              "       1, 1, 2, 0, 2, 1, 2, 0])"
            ]
          },
          "metadata": {},
          "execution_count": 21
        }
      ]
    },
    {
      "cell_type": "markdown",
      "metadata": {
        "id": "3tx8Wz1I9MO2"
      },
      "source": [
        "#**Evaluasi Model**\n",
        "\n",
        "Evaluasi model digunakan untuk melihat seberapa baik metode ini bekerja pada data uji yang diberikan. Salah\n",
        "satu metrik yang dapat digunakan adalah akurasi. Metrik ini menghitung jumlah hasil prediksi yang sesuai\n",
        "dengan label sesungguhnya kemudian dibagi dengan jumlah keseluruhan label. Menggunakan bahasa python\n",
        "akurasi dapat dituliskan sebagai berikut."
      ]
    },
    {
      "cell_type": "code",
      "metadata": {
        "id": "uq-IndD49JZP"
      },
      "source": [
        "def akurasi(y_asli, y_pred):\n",
        " akurasi = np.sum(y_asli == y_pred) / len(y_asli)\n",
        " return akurasi"
      ],
      "execution_count": null,
      "outputs": []
    },
    {
      "cell_type": "code",
      "metadata": {
        "colab": {
          "base_uri": "https://localhost:8080/"
        },
        "id": "712iOUsk9Rcc",
        "outputId": "05629ea2-686a-4c6a-fd15-04835e6338fc"
      },
      "source": [
        "akurasi(y_uji , y_pred)\n"
      ],
      "execution_count": null,
      "outputs": [
        {
          "output_type": "execute_result",
          "data": {
            "text/plain": [
              "1.0"
            ]
          },
          "metadata": {},
          "execution_count": 23
        }
      ]
    },
    {
      "cell_type": "markdown",
      "metadata": {
        "id": "_hjG51aw9X2w"
      },
      "source": [
        "Diperoleh hasil akurasi 1.0 artinya metode KNN dapat melakukan prediksi dengan tepat untuk semua data uji\n",
        "yang digunakan"
      ]
    }
  ]
}